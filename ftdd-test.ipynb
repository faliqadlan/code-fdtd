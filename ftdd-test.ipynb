{
 "cells": [
  {
   "cell_type": "code",
   "execution_count": 3,
   "metadata": {},
   "outputs": [
    {
     "ename": "ModuleNotFoundError",
     "evalue": "No module named 'meep'",
     "output_type": "error",
     "traceback": [
      "\u001b[1;31m---------------------------------------------------------------------------\u001b[0m",
      "\u001b[1;31mModuleNotFoundError\u001b[0m                       Traceback (most recent call last)",
      "Cell \u001b[1;32mIn[3], line 1\u001b[0m\n\u001b[1;32m----> 1\u001b[0m \u001b[38;5;28;01mimport\u001b[39;00m \u001b[38;5;21;01mmeep\u001b[39;00m \u001b[38;5;28;01mas\u001b[39;00m \u001b[38;5;21;01mmp\u001b[39;00m\n\u001b[0;32m      2\u001b[0m \u001b[38;5;28;01mimport\u001b[39;00m \u001b[38;5;21;01mnumpy\u001b[39;00m \u001b[38;5;28;01mas\u001b[39;00m \u001b[38;5;21;01mnp\u001b[39;00m\n\u001b[0;32m      3\u001b[0m \u001b[38;5;28;01mimport\u001b[39;00m \u001b[38;5;21;01mmatplotlib\u001b[39;00m\u001b[38;5;21;01m.\u001b[39;00m\u001b[38;5;21;01mpyplot\u001b[39;00m \u001b[38;5;28;01mas\u001b[39;00m \u001b[38;5;21;01mplt\u001b[39;00m\n",
      "\u001b[1;31mModuleNotFoundError\u001b[0m: No module named 'meep'"
     ]
    }
   ],
   "source": [
    "import meep as mp\n",
    "\n",
    "# set data for wavelengt and n k materials\n",
    "wavelengths = dataNK[\"Wavelength (nm)\"].astype(float)\n",
    "auN = dataNK[\"Au_n\"].astype(float)\n",
    "auK = dataNK[\"Au_k\"].astype(float)\n",
    "spiroN = dataNK[\"Spiro_n\"].astype(float)\n",
    "spiroK = dataNK[\"Spiro_k\"].astype(float)\n",
    "perovN = dataNK[\"Perov_n\"].astype(float)\n",
    "perovK = dataNK[\"Perov_k\"].astype(float)\n",
    "tio2N = dataNK[\"TiO2_n\"].astype(float)\n",
    "tio2K = dataNK[\"TiO2_k\"].astype(float)\n",
    "\n",
    "\n",
    "# 1um = 1000 nm\n",
    "auHeight = 0.1  # 0.1 um or 100 nm\n",
    "spiroHeight = 0.2  # 0.2 um or 200 nm\n",
    "perovHeight = 0.37  # 0.37 um or 370 nm\n",
    "tio2Height = 0.07  # 0.07 um or 70 nm\n",
    "x_length = 1  # 1 um or 1000 nm\n",
    "y_length = 1  # 1 um or 1000 nm\n",
    "\n",
    "\n",
    "# Define the refractive index of the materials\n",
    "au = [mp.Medium(index=complex(n, k)) for n, k in zip(auN, auK)]\n",
    "spiro = [mp.Medium(index=complex(n, k)) for n, k in zip(spiroN, spiroK)]\n",
    "perov = [mp.Medium(index=complex(n, k)) for n, k in zip(perovN, perovK)]\n",
    "tio2 = [mp.Medium(index=complex(n, k)) for n, k in zip(tio2N, tio2K)]\n",
    "\n",
    "\n",
    "# Define the geometry of the simulation\n",
    "def geometryNK(index: int) -> List[mp.Block]:\n",
    "    geometry = [\n",
    "        mp.Block(\n",
    "            size=mp.Vector3(x_length, y_length, auHeight),\n",
    "            material=au[index],\n",
    "            center=mp.Vector3(z=-auHeight / 2),\n",
    "        ),\n",
    "        mp.Block(\n",
    "            size=mp.Vector3(x_length, y_length, spiroHeight),\n",
    "            material=spiro[index],\n",
    "            center=mp.Vector3(z=-auHeight - spiroHeight / 2),\n",
    "        ),\n",
    "        mp.Block(\n",
    "            size=mp.Vector3(x_length, y_length, perovHeight),\n",
    "            material=perov[index],\n",
    "            center=mp.Vector3(z=-auHeight - spiroHeight - perovHeight / 2),\n",
    "        ),\n",
    "        mp.Block(\n",
    "            size=mp.Vector3(x_length, y_length, tio2Height),\n",
    "            material=tio2[index],\n",
    "            center=mp.Vector3(z=-auHeight - spiroHeight - perovHeight - tio2Height / 2),\n",
    "        ),\n",
    "    ]\n",
    "\n",
    "    return geometry\n",
    "\n",
    "\n",
    "print(geometryNK(0))"
   ]
  }
 ],
 "metadata": {
  "kernelspec": {
   "display_name": "base",
   "language": "python",
   "name": "python3"
  },
  "language_info": {
   "codemirror_mode": {
    "name": "ipython",
    "version": 3
   },
   "file_extension": ".py",
   "mimetype": "text/x-python",
   "name": "python",
   "nbconvert_exporter": "python",
   "pygments_lexer": "ipython3",
   "version": "3.11.5"
  }
 },
 "nbformat": 4,
 "nbformat_minor": 2
}
